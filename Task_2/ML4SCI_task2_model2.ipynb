{
  "cells": [
    {
      "cell_type": "code",
      "execution_count": 1,
      "metadata": {
        "colab": {
          "base_uri": "https://localhost:8080/"
        },
        "id": "xUQYqeeGvntt",
        "outputId": "5ed91d2e-5884-4366-f081-b9f0755e4c11"
      },
      "outputs": [
        {
          "output_type": "stream",
          "name": "stdout",
          "text": [
            "Requirement already satisfied: pyarrow in /usr/local/lib/python3.10/dist-packages (14.0.2)\n",
            "Requirement already satisfied: numpy>=1.16.6 in /usr/local/lib/python3.10/dist-packages (from pyarrow) (1.25.2)\n"
          ]
        }
      ],
      "source": [
        "!pip install pyarrow"
      ]
    },
    {
      "cell_type": "code",
      "execution_count": 2,
      "metadata": {
        "id": "bKK5mNqex6vt"
      },
      "outputs": [],
      "source": [
        "import pandas as pd\n",
        "import pyarrow.parquet as parquet\n",
        "first = 'QCDToGGQQ_IMGjet_RH1all_jet0_run0_n36272.test.snappy.parquet'\n",
        "second = 'QCDToGGQQ_IMGjet_RH1all_jet0_run1_n47540.test.snappy.parquet'\n",
        "\n",
        "first_file = parquet.ParquetFile('/content/drive/MyDrive/Sci_data/'+first)"
      ]
    },
    {
      "cell_type": "markdown",
      "metadata": {
        "id": "JDK2NdrSgrr_"
      },
      "source": [
        "### Since the size of the raw data is very large, We will first visualise a small chunk of X_jet\n"
      ]
    },
    {
      "cell_type": "code",
      "execution_count": 3,
      "metadata": {
        "colab": {
          "base_uri": "https://localhost:8080/"
        },
        "id": "HKzdTmUIyfwZ",
        "outputId": "331a0837-a88e-4236-c1ab-603bf2b8b53c"
      },
      "outputs": [
        {
          "output_type": "stream",
          "name": "stdout",
          "text": [
            "RecordBatch\n"
          ]
        }
      ],
      "source": [
        "chunk_size = 12000\n",
        "# batches_df = []\n",
        "\n",
        "for batch in first_file.iter_batches(chunk_size):\n",
        "    print(\"RecordBatch\")\n",
        "    batch_df = batch.to_pandas()\n",
        "    # batches_df.append(batch_df)\n",
        "    break\n",
        "    # print(\"batch_df:\", batch_df)"
      ]
    },
    {
      "cell_type": "code",
      "execution_count": 4,
      "metadata": {
        "colab": {
          "base_uri": "https://localhost:8080/"
        },
        "id": "G902DaWR8of-",
        "outputId": "4fdabf5a-d658-4a28-e653-7e7c8320d517"
      },
      "outputs": [
        {
          "output_type": "execute_result",
          "data": {
            "text/plain": [
              "1.0"
            ]
          },
          "metadata": {},
          "execution_count": 4
        }
      ],
      "source": [
        "batch_df['y'][9]"
      ]
    },
    {
      "cell_type": "markdown",
      "metadata": {
        "id": "KnS-W7fkweTL"
      },
      "source": [
        "## Visualizing `X_jets`"
      ]
    },
    {
      "cell_type": "code",
      "execution_count": 5,
      "metadata": {
        "id": "bPCR04tQ5AtK"
      },
      "outputs": [],
      "source": [
        "from torch.utils.data import Dataset\n",
        "\n",
        "class ImageData(Dataset):\n",
        "  def __init__(self, img_data, transform):\n",
        "    self.img_list = []\n",
        "    self.img_data=img_data\n",
        "    self.transform=transform\n",
        "    for number in range(img_data.shape[0]):\n",
        "      for idx, channels in enumerate(batch_df['X_jets'][number]):\n",
        "        for i, row in enumerate(channels):\n",
        "          if i==0:\n",
        "            img = row\n",
        "          else:\n",
        "            img = np.vstack([img, row])\n",
        "        if idx==0:\n",
        "          final_img = img\n",
        "        else:\n",
        "          final_img = np.dstack([final_img, img])\n",
        "      self.img_list.append(final_img)\n",
        "\n",
        "  def __len__(self):\n",
        "    return len(self.img_list)\n",
        "\n",
        "  def __getitem__(self, idx):\n",
        "    return self.transform(self.img_list[idx]), self.img_data['y'][idx]"
      ]
    },
    {
      "cell_type": "code",
      "execution_count": 6,
      "metadata": {
        "id": "V9eIgUnWtlgO"
      },
      "outputs": [],
      "source": [
        "import torch\n",
        "from torchvision.transforms import ToTensor, Compose, Resize, Lambda\n",
        "\n",
        "transform = Compose([\n",
        "    ToTensor(),\n",
        "    Resize((32,32)),\n",
        "])"
      ]
    },
    {
      "cell_type": "code",
      "execution_count": 7,
      "metadata": {
        "id": "xwqV4PpxO5AC"
      },
      "outputs": [],
      "source": [
        "import numpy as np\n",
        "data = ImageData(batch_df, transform)"
      ]
    },
    {
      "cell_type": "code",
      "execution_count": 8,
      "metadata": {
        "id": "JO3lZe96dRDN"
      },
      "outputs": [],
      "source": [
        "del batch_df"
      ]
    },
    {
      "cell_type": "code",
      "execution_count": 9,
      "metadata": {
        "id": "CndXdubT4whY"
      },
      "outputs": [],
      "source": [
        "from torchvision.models import resnet18"
      ]
    },
    {
      "cell_type": "code",
      "execution_count": 10,
      "metadata": {
        "colab": {
          "base_uri": "https://localhost:8080/"
        },
        "id": "pqEKh9BX9lqT",
        "outputId": "7fcd4797-3246-40a0-9c81-07b658b1cbf5"
      },
      "outputs": [
        {
          "output_type": "stream",
          "name": "stderr",
          "text": [
            "/usr/local/lib/python3.10/dist-packages/torchvision/models/_utils.py:223: UserWarning: Arguments other than a weight enum or `None` for 'weights' are deprecated since 0.13 and may be removed in the future. The current behavior is equivalent to passing `weights=ResNet18_Weights.IMAGENET1K_V1`. You can also use `weights=ResNet18_Weights.DEFAULT` to get the most up-to-date weights.\n",
            "  warnings.warn(msg)\n",
            "Downloading: \"https://download.pytorch.org/models/resnet18-f37072fd.pth\" to /root/.cache/torch/hub/checkpoints/resnet18-f37072fd.pth\n",
            "100%|██████████| 44.7M/44.7M [00:00<00:00, 59.3MB/s]\n"
          ]
        }
      ],
      "source": [
        "model = resnet18(weights=True)"
      ]
    },
    {
      "cell_type": "code",
      "execution_count": 11,
      "metadata": {
        "id": "5O7AgFpolV2C"
      },
      "outputs": [],
      "source": [
        "import torch.nn as nn\n",
        "\n",
        "model.fc = nn.Linear(512, 1)\n",
        "\n",
        "# Enabling gradient for all parameters gives better results\n",
        "for p in model.parameters():\n",
        "    p.requires_grad = True"
      ]
    },
    {
      "cell_type": "code",
      "source": [
        "device=torch.device(\"cuda\") if torch.cuda.is_available() else 'cpu'"
      ],
      "metadata": {
        "id": "6hUXxLM2bWEp"
      },
      "execution_count": 12,
      "outputs": []
    },
    {
      "cell_type": "code",
      "execution_count": 13,
      "metadata": {
        "id": "COQ38pASSGfC"
      },
      "outputs": [],
      "source": [
        "model = model.to(device)"
      ]
    },
    {
      "cell_type": "code",
      "execution_count": 14,
      "metadata": {
        "id": "n4oX8ql4Qoi4"
      },
      "outputs": [],
      "source": [
        "from torch.utils.data import DataLoader, random_split\n",
        "\n",
        "train_data, test_data = random_split(data, [0.8, 0.2])"
      ]
    },
    {
      "cell_type": "code",
      "execution_count": 15,
      "metadata": {
        "id": "j3Gd1iBHQgzq"
      },
      "outputs": [],
      "source": [
        "batch_size = 64\n",
        "\n",
        "train_dataloader = DataLoader(train_data, batch_size=batch_size, shuffle=True,)\n",
        "test_dataloader = DataLoader(test_data, batch_size=batch_size, shuffle=True)"
      ]
    },
    {
      "cell_type": "code",
      "execution_count": 16,
      "metadata": {
        "id": "xBfQdfWvQ7qv"
      },
      "outputs": [],
      "source": [
        "from tqdm import tqdm\n",
        "\n",
        "criterion = nn.BCEWithLogitsLoss()\n",
        "optimiser = torch.optim.AdamW(model.parameters(), lr=3e-4)\n",
        "num_epochs = 25"
      ]
    },
    {
      "cell_type": "code",
      "source": [
        "def evaluate(loader):\n",
        "    model.eval()\n",
        "    total_samples = 0\n",
        "    correct_samples = 0\n",
        "    with torch.no_grad():\n",
        "        for inputs, labels in loader:\n",
        "            inputs, labels = inputs.to(device), labels.to(device)\n",
        "            pred = model(inputs.float())  # Forward pass\n",
        "            predicted_labels = (pred.sigmoid().round())\n",
        "            correct_samples += (predicted_labels.squeeze(-1) == labels).sum().item()\n",
        "            total_samples += labels.size(0)\n",
        "    return correct_samples / total_samples * 100"
      ],
      "metadata": {
        "id": "juEoSDMOb20m"
      },
      "execution_count": 17,
      "outputs": []
    },
    {
      "cell_type": "code",
      "source": [
        "best_acc = 0\n",
        "for epoch in range(1, num_epochs+1):\n",
        "    epoch_loss = 0\n",
        "    model.train()\n",
        "    for inputs, labels in tqdm(train_dataloader, desc=f'Epoch {epoch}:'):\n",
        "        inputs, labels = inputs.to(device), labels.to(device)\n",
        "        optimiser.zero_grad()\n",
        "        outputs = model(inputs.float())\n",
        "        loss = criterion(outputs.squeeze(), labels.float())\n",
        "        loss.backward()\n",
        "        optimiser.step()\n",
        "        epoch_loss += loss.item()\n",
        "    acc = evaluate(test_dataloader)\n",
        "    if acc > best_acc:\n",
        "      best_epoch = epoch\n",
        "      best_acc= acc\n",
        "      torch.save(model.state_dict(), 'best_model_resnet.pth')\n",
        "    print(f'Epoch {epoch}: Loss = {epoch_loss:.4f}, Test Accuracy = {acc:.2f}%')"
      ],
      "metadata": {
        "colab": {
          "base_uri": "https://localhost:8080/"
        },
        "id": "uOX7NTD6iRiQ",
        "outputId": "975a1b42-b074-4c9b-8a03-a68dfdd81dac"
      },
      "execution_count": 18,
      "outputs": [
        {
          "output_type": "stream",
          "name": "stderr",
          "text": [
            "Epoch 1:: 100%|██████████| 150/150 [02:10<00:00,  1.15it/s]\n"
          ]
        },
        {
          "output_type": "stream",
          "name": "stdout",
          "text": [
            "Epoch 1: Loss = 93.4887, Test Accuracy = 69.92%\n"
          ]
        },
        {
          "output_type": "stream",
          "name": "stderr",
          "text": [
            "Epoch 2:: 100%|██████████| 150/150 [02:09<00:00,  1.16it/s]\n"
          ]
        },
        {
          "output_type": "stream",
          "name": "stdout",
          "text": [
            "Epoch 2: Loss = 86.4873, Test Accuracy = 71.96%\n"
          ]
        },
        {
          "output_type": "stream",
          "name": "stderr",
          "text": [
            "Epoch 3:: 100%|██████████| 150/150 [02:09<00:00,  1.16it/s]\n"
          ]
        },
        {
          "output_type": "stream",
          "name": "stdout",
          "text": [
            "Epoch 3: Loss = 84.5296, Test Accuracy = 72.42%\n"
          ]
        },
        {
          "output_type": "stream",
          "name": "stderr",
          "text": [
            "Epoch 4:: 100%|██████████| 150/150 [02:08<00:00,  1.17it/s]\n"
          ]
        },
        {
          "output_type": "stream",
          "name": "stdout",
          "text": [
            "Epoch 4: Loss = 82.6285, Test Accuracy = 71.17%\n"
          ]
        },
        {
          "output_type": "stream",
          "name": "stderr",
          "text": [
            "Epoch 5:: 100%|██████████| 150/150 [02:08<00:00,  1.17it/s]\n"
          ]
        },
        {
          "output_type": "stream",
          "name": "stdout",
          "text": [
            "Epoch 5: Loss = 81.5309, Test Accuracy = 72.08%\n"
          ]
        },
        {
          "output_type": "stream",
          "name": "stderr",
          "text": [
            "Epoch 6:: 100%|██████████| 150/150 [02:08<00:00,  1.17it/s]\n"
          ]
        },
        {
          "output_type": "stream",
          "name": "stdout",
          "text": [
            "Epoch 6: Loss = 79.0897, Test Accuracy = 72.12%\n"
          ]
        },
        {
          "output_type": "stream",
          "name": "stderr",
          "text": [
            "Epoch 7:: 100%|██████████| 150/150 [02:09<00:00,  1.16it/s]\n"
          ]
        },
        {
          "output_type": "stream",
          "name": "stdout",
          "text": [
            "Epoch 7: Loss = 76.8161, Test Accuracy = 72.00%\n"
          ]
        },
        {
          "output_type": "stream",
          "name": "stderr",
          "text": [
            "Epoch 8:: 100%|██████████| 150/150 [02:09<00:00,  1.16it/s]\n"
          ]
        },
        {
          "output_type": "stream",
          "name": "stdout",
          "text": [
            "Epoch 8: Loss = 75.8674, Test Accuracy = 65.62%\n"
          ]
        },
        {
          "output_type": "stream",
          "name": "stderr",
          "text": [
            "Epoch 9:: 100%|██████████| 150/150 [02:09<00:00,  1.16it/s]\n"
          ]
        },
        {
          "output_type": "stream",
          "name": "stdout",
          "text": [
            "Epoch 9: Loss = 74.2520, Test Accuracy = 70.38%\n"
          ]
        },
        {
          "output_type": "stream",
          "name": "stderr",
          "text": [
            "Epoch 10:: 100%|██████████| 150/150 [02:08<00:00,  1.17it/s]\n"
          ]
        },
        {
          "output_type": "stream",
          "name": "stdout",
          "text": [
            "Epoch 10: Loss = 70.5479, Test Accuracy = 62.79%\n"
          ]
        },
        {
          "output_type": "stream",
          "name": "stderr",
          "text": [
            "Epoch 11:: 100%|██████████| 150/150 [02:08<00:00,  1.17it/s]\n"
          ]
        },
        {
          "output_type": "stream",
          "name": "stdout",
          "text": [
            "Epoch 11: Loss = 68.5160, Test Accuracy = 71.00%\n"
          ]
        },
        {
          "output_type": "stream",
          "name": "stderr",
          "text": [
            "Epoch 12:: 100%|██████████| 150/150 [02:08<00:00,  1.17it/s]\n"
          ]
        },
        {
          "output_type": "stream",
          "name": "stdout",
          "text": [
            "Epoch 12: Loss = 64.6753, Test Accuracy = 69.25%\n"
          ]
        },
        {
          "output_type": "stream",
          "name": "stderr",
          "text": [
            "Epoch 13:: 100%|██████████| 150/150 [02:09<00:00,  1.16it/s]\n"
          ]
        },
        {
          "output_type": "stream",
          "name": "stdout",
          "text": [
            "Epoch 13: Loss = 62.6169, Test Accuracy = 57.63%\n"
          ]
        },
        {
          "output_type": "stream",
          "name": "stderr",
          "text": [
            "Epoch 14:: 100%|██████████| 150/150 [02:08<00:00,  1.17it/s]\n"
          ]
        },
        {
          "output_type": "stream",
          "name": "stdout",
          "text": [
            "Epoch 14: Loss = 57.6717, Test Accuracy = 67.12%\n"
          ]
        },
        {
          "output_type": "stream",
          "name": "stderr",
          "text": [
            "Epoch 15:: 100%|██████████| 150/150 [02:08<00:00,  1.17it/s]\n"
          ]
        },
        {
          "output_type": "stream",
          "name": "stdout",
          "text": [
            "Epoch 15: Loss = 54.9255, Test Accuracy = 70.21%\n"
          ]
        },
        {
          "output_type": "stream",
          "name": "stderr",
          "text": [
            "Epoch 16:: 100%|██████████| 150/150 [02:08<00:00,  1.16it/s]\n"
          ]
        },
        {
          "output_type": "stream",
          "name": "stdout",
          "text": [
            "Epoch 16: Loss = 49.7635, Test Accuracy = 68.79%\n"
          ]
        },
        {
          "output_type": "stream",
          "name": "stderr",
          "text": [
            "Epoch 17:: 100%|██████████| 150/150 [02:09<00:00,  1.16it/s]\n"
          ]
        },
        {
          "output_type": "stream",
          "name": "stdout",
          "text": [
            "Epoch 17: Loss = 46.0939, Test Accuracy = 69.38%\n"
          ]
        },
        {
          "output_type": "stream",
          "name": "stderr",
          "text": [
            "Epoch 18:: 100%|██████████| 150/150 [02:09<00:00,  1.16it/s]\n"
          ]
        },
        {
          "output_type": "stream",
          "name": "stdout",
          "text": [
            "Epoch 18: Loss = 42.4472, Test Accuracy = 66.38%\n"
          ]
        },
        {
          "output_type": "stream",
          "name": "stderr",
          "text": [
            "Epoch 19:: 100%|██████████| 150/150 [02:08<00:00,  1.16it/s]\n"
          ]
        },
        {
          "output_type": "stream",
          "name": "stdout",
          "text": [
            "Epoch 19: Loss = 38.4205, Test Accuracy = 67.62%\n"
          ]
        },
        {
          "output_type": "stream",
          "name": "stderr",
          "text": [
            "Epoch 20:: 100%|██████████| 150/150 [02:09<00:00,  1.16it/s]\n"
          ]
        },
        {
          "output_type": "stream",
          "name": "stdout",
          "text": [
            "Epoch 20: Loss = 34.0486, Test Accuracy = 69.29%\n"
          ]
        },
        {
          "output_type": "stream",
          "name": "stderr",
          "text": [
            "Epoch 21:: 100%|██████████| 150/150 [02:09<00:00,  1.16it/s]\n"
          ]
        },
        {
          "output_type": "stream",
          "name": "stdout",
          "text": [
            "Epoch 21: Loss = 30.0833, Test Accuracy = 63.42%\n"
          ]
        },
        {
          "output_type": "stream",
          "name": "stderr",
          "text": [
            "Epoch 22:: 100%|██████████| 150/150 [02:10<00:00,  1.15it/s]\n"
          ]
        },
        {
          "output_type": "stream",
          "name": "stdout",
          "text": [
            "Epoch 22: Loss = 29.5587, Test Accuracy = 62.96%\n"
          ]
        },
        {
          "output_type": "stream",
          "name": "stderr",
          "text": [
            "Epoch 23:: 100%|██████████| 150/150 [02:08<00:00,  1.16it/s]\n"
          ]
        },
        {
          "output_type": "stream",
          "name": "stdout",
          "text": [
            "Epoch 23: Loss = 24.9666, Test Accuracy = 66.33%\n"
          ]
        },
        {
          "output_type": "stream",
          "name": "stderr",
          "text": [
            "Epoch 24:: 100%|██████████| 150/150 [02:08<00:00,  1.17it/s]\n"
          ]
        },
        {
          "output_type": "stream",
          "name": "stdout",
          "text": [
            "Epoch 24: Loss = 23.1163, Test Accuracy = 67.58%\n"
          ]
        },
        {
          "output_type": "stream",
          "name": "stderr",
          "text": [
            "Epoch 25:: 100%|██████████| 150/150 [02:08<00:00,  1.17it/s]\n"
          ]
        },
        {
          "output_type": "stream",
          "name": "stdout",
          "text": [
            "Epoch 25: Loss = 22.6408, Test Accuracy = 69.00%\n"
          ]
        }
      ]
    },
    {
      "cell_type": "code",
      "source": [
        "del model"
      ],
      "metadata": {
        "id": "6167ZaKfiRes"
      },
      "execution_count": 23,
      "outputs": []
    },
    {
      "cell_type": "code",
      "source": [
        "model = resnet18()\n",
        "model.fc = nn.Linear(512, 1)"
      ],
      "metadata": {
        "id": "SH5m_IE_b2wH"
      },
      "execution_count": 24,
      "outputs": []
    },
    {
      "cell_type": "code",
      "execution_count": 25,
      "metadata": {
        "id": "WIPOo9EkWyX1",
        "colab": {
          "base_uri": "https://localhost:8080/"
        },
        "outputId": "9f5b9b52-147c-4354-dc57-19a543c12754"
      },
      "outputs": [
        {
          "output_type": "execute_result",
          "data": {
            "text/plain": [
              "<All keys matched successfully>"
            ]
          },
          "metadata": {},
          "execution_count": 25
        }
      ],
      "source": [
        "state_dict = torch.load('best_model_resnet.pth')\n",
        "model.load_state_dict(state_dict)"
      ]
    },
    {
      "cell_type": "code",
      "source": [
        "print(f'Best accuracy = {best_acc} at epoch {best_epoch}')"
      ],
      "metadata": {
        "id": "v6OpZUgq1Eap",
        "colab": {
          "base_uri": "https://localhost:8080/"
        },
        "outputId": "8e0c65dd-c9c9-43fb-f1d6-732d6ea0d9e0"
      },
      "execution_count": 26,
      "outputs": [
        {
          "output_type": "stream",
          "name": "stdout",
          "text": [
            "Best accuracy = 72.41666666666666 at epoch 3\n"
          ]
        }
      ]
    },
    {
      "cell_type": "code",
      "source": [],
      "metadata": {
        "id": "A5qO3OZga5rP"
      },
      "execution_count": 22,
      "outputs": []
    }
  ],
  "metadata": {
    "accelerator": "GPU",
    "colab": {
      "gpuType": "T4",
      "provenance": []
    },
    "kernelspec": {
      "display_name": "Python 3",
      "name": "python3"
    },
    "language_info": {
      "name": "python"
    }
  },
  "nbformat": 4,
  "nbformat_minor": 0
}