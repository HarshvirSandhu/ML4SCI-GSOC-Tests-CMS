{
  "cells": [
    {
      "cell_type": "code",
      "execution_count": 1,
      "metadata": {
        "colab": {
          "base_uri": "https://localhost:8080/"
        },
        "id": "LaMnbeS8xS_N",
        "outputId": "50dc90a0-1042-438f-b452-e8463afe1d0d"
      },
      "outputs": [
        {
          "output_type": "stream",
          "name": "stdout",
          "text": [
            "Collecting torch-geometric\n",
            "  Downloading torch_geometric-2.5.1-py3-none-any.whl (1.1 MB)\n",
            "\u001b[2K     \u001b[90m━━━━━━━━━━━━━━━━━━━━━━━━━━━━━━━━━━━━━━━━\u001b[0m \u001b[32m1.1/1.1 MB\u001b[0m \u001b[31m11.0 MB/s\u001b[0m eta \u001b[36m0:00:00\u001b[0m\n",
            "\u001b[?25hRequirement already satisfied: tqdm in /usr/local/lib/python3.10/dist-packages (from torch-geometric) (4.66.2)\n",
            "Requirement already satisfied: numpy in /usr/local/lib/python3.10/dist-packages (from torch-geometric) (1.25.2)\n",
            "Requirement already satisfied: scipy in /usr/local/lib/python3.10/dist-packages (from torch-geometric) (1.11.4)\n",
            "Requirement already satisfied: fsspec in /usr/local/lib/python3.10/dist-packages (from torch-geometric) (2023.6.0)\n",
            "Requirement already satisfied: jinja2 in /usr/local/lib/python3.10/dist-packages (from torch-geometric) (3.1.3)\n",
            "Requirement already satisfied: aiohttp in /usr/local/lib/python3.10/dist-packages (from torch-geometric) (3.9.3)\n",
            "Requirement already satisfied: requests in /usr/local/lib/python3.10/dist-packages (from torch-geometric) (2.31.0)\n",
            "Requirement already satisfied: pyparsing in /usr/local/lib/python3.10/dist-packages (from torch-geometric) (3.1.2)\n",
            "Requirement already satisfied: scikit-learn in /usr/local/lib/python3.10/dist-packages (from torch-geometric) (1.2.2)\n",
            "Requirement already satisfied: psutil>=5.8.0 in /usr/local/lib/python3.10/dist-packages (from torch-geometric) (5.9.5)\n",
            "Requirement already satisfied: aiosignal>=1.1.2 in /usr/local/lib/python3.10/dist-packages (from aiohttp->torch-geometric) (1.3.1)\n",
            "Requirement already satisfied: attrs>=17.3.0 in /usr/local/lib/python3.10/dist-packages (from aiohttp->torch-geometric) (23.2.0)\n",
            "Requirement already satisfied: frozenlist>=1.1.1 in /usr/local/lib/python3.10/dist-packages (from aiohttp->torch-geometric) (1.4.1)\n",
            "Requirement already satisfied: multidict<7.0,>=4.5 in /usr/local/lib/python3.10/dist-packages (from aiohttp->torch-geometric) (6.0.5)\n",
            "Requirement already satisfied: yarl<2.0,>=1.0 in /usr/local/lib/python3.10/dist-packages (from aiohttp->torch-geometric) (1.9.4)\n",
            "Requirement already satisfied: async-timeout<5.0,>=4.0 in /usr/local/lib/python3.10/dist-packages (from aiohttp->torch-geometric) (4.0.3)\n",
            "Requirement already satisfied: MarkupSafe>=2.0 in /usr/local/lib/python3.10/dist-packages (from jinja2->torch-geometric) (2.1.5)\n",
            "Requirement already satisfied: charset-normalizer<4,>=2 in /usr/local/lib/python3.10/dist-packages (from requests->torch-geometric) (3.3.2)\n",
            "Requirement already satisfied: idna<4,>=2.5 in /usr/local/lib/python3.10/dist-packages (from requests->torch-geometric) (3.6)\n",
            "Requirement already satisfied: urllib3<3,>=1.21.1 in /usr/local/lib/python3.10/dist-packages (from requests->torch-geometric) (2.0.7)\n",
            "Requirement already satisfied: certifi>=2017.4.17 in /usr/local/lib/python3.10/dist-packages (from requests->torch-geometric) (2024.2.2)\n",
            "Requirement already satisfied: joblib>=1.1.1 in /usr/local/lib/python3.10/dist-packages (from scikit-learn->torch-geometric) (1.3.2)\n",
            "Requirement already satisfied: threadpoolctl>=2.0.0 in /usr/local/lib/python3.10/dist-packages (from scikit-learn->torch-geometric) (3.3.0)\n",
            "Installing collected packages: torch-geometric\n",
            "Successfully installed torch-geometric-2.5.1\n"
          ]
        }
      ],
      "source": [
        "!pip install torch-geometric"
      ]
    },
    {
      "cell_type": "code",
      "execution_count": 2,
      "metadata": {
        "colab": {
          "base_uri": "https://localhost:8080/"
        },
        "id": "MeOe14uvxF_4",
        "outputId": "937ce7cf-e0a4-4313-ff45-36a88ece15cc"
      },
      "outputs": [
        {
          "output_type": "stream",
          "name": "stdout",
          "text": [
            "Mounted at /content/drive\n"
          ]
        }
      ],
      "source": [
        "from google.colab import drive\n",
        "drive.mount('/content/drive')"
      ]
    },
    {
      "cell_type": "code",
      "execution_count": 3,
      "metadata": {
        "id": "_eUJcrDpgqK0"
      },
      "outputs": [],
      "source": [
        "import torch\n",
        "chunk1 = torch.load('/content/drive/MyDrive/SCI_data/first.pt')"
      ]
    },
    {
      "cell_type": "code",
      "execution_count": 4,
      "metadata": {
        "id": "LI4EBVFJxI68"
      },
      "outputs": [],
      "source": [
        "chunk2 = torch.load('/content/drive/MyDrive/SCI_data/second (1).pt')"
      ]
    },
    {
      "cell_type": "code",
      "execution_count": 5,
      "metadata": {
        "id": "SAFox7VpCBD2"
      },
      "outputs": [],
      "source": [
        "# chunk3 = torch.load('/content/drive/MyDrive/SCI_data/third.pt')"
      ]
    },
    {
      "cell_type": "code",
      "execution_count": 6,
      "metadata": {
        "id": "Qrvc4b3pxRJ6"
      },
      "outputs": [],
      "source": [
        "chunk1+=chunk2\n",
        "# chunk1+=chunk3"
      ]
    },
    {
      "cell_type": "code",
      "execution_count": 7,
      "metadata": {
        "colab": {
          "base_uri": "https://localhost:8080/"
        },
        "id": "J9tBJKJcyEbr",
        "outputId": "9fc865ce-5f6d-4d68-91ec-52aed5451e04"
      },
      "outputs": [
        {
          "output_type": "execute_result",
          "data": {
            "text/plain": [
              "18000"
            ]
          },
          "metadata": {},
          "execution_count": 7
        }
      ],
      "source": [
        "len(chunk1)"
      ]
    },
    {
      "cell_type": "code",
      "execution_count": 8,
      "metadata": {
        "id": "KPmeFMQmdCyq"
      },
      "outputs": [],
      "source": [
        "from torch.utils.data import Dataset\n",
        "\n",
        "class GraphDataset(Dataset):\n",
        "  def __init__(self, data, preprocess):\n",
        "    self.data = data\n",
        "    self.preprocess = preprocess\n",
        "\n",
        "  def __len__(self,):\n",
        "    return len(self.data)\n",
        "\n",
        "  def __getitem__(self, index):\n",
        "    res = self.data[index]\n",
        "    for p in self.preprocess:\n",
        "      res = p(res)\n",
        "    return res\n",
        "\n",
        "\n",
        "# dataset = GraphDataset(chunk1, [drop_self_edges, drop_nodes_with_no_edges])"
      ]
    },
    {
      "cell_type": "code",
      "execution_count": 9,
      "metadata": {
        "colab": {
          "base_uri": "https://localhost:8080/"
        },
        "id": "tH5qblStyQ3a",
        "outputId": "da8c82e3-8345-4dc9-e3e2-5bd5cba3042e"
      },
      "outputs": [
        {
          "output_type": "stream",
          "name": "stdout",
          "text": [
            "14580 1620 1620\n"
          ]
        }
      ],
      "source": [
        "from sklearn.model_selection import train_test_split\n",
        "rand_seed = 42\n",
        "X_train, X_test = train_test_split(chunk1, test_size=0.1, random_state = rand_seed)\n",
        "X_train, X_val = train_test_split(X_train, test_size=0.1, random_state = rand_seed)\n",
        "print(len(X_train), len(X_val), len(X_val))"
      ]
    },
    {
      "cell_type": "code",
      "execution_count": 10,
      "metadata": {
        "id": "h5seHj9b7lXf"
      },
      "outputs": [],
      "source": [
        "device = 'cuda'"
      ]
    },
    {
      "cell_type": "code",
      "execution_count": 11,
      "metadata": {
        "id": "5n_uKEt5yHo8"
      },
      "outputs": [],
      "source": [
        "from torch_geometric.loader import DataLoader\n",
        "\n",
        "train_loader = DataLoader(X_train, batch_size=32, shuffle=True)\n",
        "val_loader = DataLoader(X_val, batch_size=32, shuffle=False)\n",
        "test_loader = DataLoader(X_test, batch_size=32, shuffle=False)"
      ]
    },
    {
      "cell_type": "code",
      "execution_count": 12,
      "metadata": {
        "colab": {
          "base_uri": "https://localhost:8080/"
        },
        "id": "Y0dxA0qddvw-",
        "outputId": "31e6d4e5-00eb-4beb-f1c0-f5946a7ec6ef"
      },
      "outputs": [
        {
          "output_type": "stream",
          "name": "stdout",
          "text": [
            "Collecting torchmetrics\n",
            "  Downloading torchmetrics-1.3.1-py3-none-any.whl (840 kB)\n",
            "\u001b[?25l     \u001b[90m━━━━━━━━━━━━━━━━━━━━━━━━━━━━━━━━━━━━━━━━\u001b[0m \u001b[32m0.0/840.4 kB\u001b[0m \u001b[31m?\u001b[0m eta \u001b[36m-:--:--\u001b[0m\r\u001b[2K     \u001b[91m━━━━━━━━━━━━━━\u001b[0m\u001b[90m╺\u001b[0m\u001b[90m━━━━━━━━━━━━━━━━━━━━━━━━━\u001b[0m \u001b[32m297.0/840.4 kB\u001b[0m \u001b[31m8.7 MB/s\u001b[0m eta \u001b[36m0:00:01\u001b[0m\r\u001b[2K     \u001b[91m━━━━━━━━━━━━━━━━━━━━━━━━━━━━━━━━━━━━━━━\u001b[0m\u001b[91m╸\u001b[0m \u001b[32m839.7/840.4 kB\u001b[0m \u001b[31m13.4 MB/s\u001b[0m eta \u001b[36m0:00:01\u001b[0m\r\u001b[2K     \u001b[90m━━━━━━━━━━━━━━━━━━━━━━━━━━━━━━━━━━━━━━━━\u001b[0m \u001b[32m840.4/840.4 kB\u001b[0m \u001b[31m11.3 MB/s\u001b[0m eta \u001b[36m0:00:00\u001b[0m\n",
            "\u001b[?25hRequirement already satisfied: numpy>1.20.0 in /usr/local/lib/python3.10/dist-packages (from torchmetrics) (1.25.2)\n",
            "Requirement already satisfied: packaging>17.1 in /usr/local/lib/python3.10/dist-packages (from torchmetrics) (24.0)\n",
            "Requirement already satisfied: torch>=1.10.0 in /usr/local/lib/python3.10/dist-packages (from torchmetrics) (2.2.1+cu121)\n",
            "Collecting lightning-utilities>=0.8.0 (from torchmetrics)\n",
            "  Downloading lightning_utilities-0.10.1-py3-none-any.whl (24 kB)\n",
            "Requirement already satisfied: setuptools in /usr/local/lib/python3.10/dist-packages (from lightning-utilities>=0.8.0->torchmetrics) (67.7.2)\n",
            "Requirement already satisfied: typing-extensions in /usr/local/lib/python3.10/dist-packages (from lightning-utilities>=0.8.0->torchmetrics) (4.10.0)\n",
            "Requirement already satisfied: filelock in /usr/local/lib/python3.10/dist-packages (from torch>=1.10.0->torchmetrics) (3.13.1)\n",
            "Requirement already satisfied: sympy in /usr/local/lib/python3.10/dist-packages (from torch>=1.10.0->torchmetrics) (1.12)\n",
            "Requirement already satisfied: networkx in /usr/local/lib/python3.10/dist-packages (from torch>=1.10.0->torchmetrics) (3.2.1)\n",
            "Requirement already satisfied: jinja2 in /usr/local/lib/python3.10/dist-packages (from torch>=1.10.0->torchmetrics) (3.1.3)\n",
            "Requirement already satisfied: fsspec in /usr/local/lib/python3.10/dist-packages (from torch>=1.10.0->torchmetrics) (2023.6.0)\n",
            "Collecting nvidia-cuda-nvrtc-cu12==12.1.105 (from torch>=1.10.0->torchmetrics)\n",
            "  Downloading nvidia_cuda_nvrtc_cu12-12.1.105-py3-none-manylinux1_x86_64.whl (23.7 MB)\n",
            "\u001b[2K     \u001b[90m━━━━━━━━━━━━━━━━━━━━━━━━━━━━━━━━━━━━━━━━\u001b[0m \u001b[32m23.7/23.7 MB\u001b[0m \u001b[31m24.9 MB/s\u001b[0m eta \u001b[36m0:00:00\u001b[0m\n",
            "\u001b[?25hCollecting nvidia-cuda-runtime-cu12==12.1.105 (from torch>=1.10.0->torchmetrics)\n",
            "  Downloading nvidia_cuda_runtime_cu12-12.1.105-py3-none-manylinux1_x86_64.whl (823 kB)\n",
            "\u001b[2K     \u001b[90m━━━━━━━━━━━━━━━━━━━━━━━━━━━━━━━━━━━━━━━━\u001b[0m \u001b[32m823.6/823.6 kB\u001b[0m \u001b[31m61.0 MB/s\u001b[0m eta \u001b[36m0:00:00\u001b[0m\n",
            "\u001b[?25hCollecting nvidia-cuda-cupti-cu12==12.1.105 (from torch>=1.10.0->torchmetrics)\n",
            "  Downloading nvidia_cuda_cupti_cu12-12.1.105-py3-none-manylinux1_x86_64.whl (14.1 MB)\n",
            "\u001b[2K     \u001b[90m━━━━━━━━━━━━━━━━━━━━━━━━━━━━━━━━━━━━━━━━\u001b[0m \u001b[32m14.1/14.1 MB\u001b[0m \u001b[31m86.8 MB/s\u001b[0m eta \u001b[36m0:00:00\u001b[0m\n",
            "\u001b[?25hCollecting nvidia-cudnn-cu12==8.9.2.26 (from torch>=1.10.0->torchmetrics)\n",
            "  Downloading nvidia_cudnn_cu12-8.9.2.26-py3-none-manylinux1_x86_64.whl (731.7 MB)\n",
            "\u001b[2K     \u001b[90m━━━━━━━━━━━━━━━━━━━━━━━━━━━━━━━━━━━━━━━━\u001b[0m \u001b[32m731.7/731.7 MB\u001b[0m \u001b[31m747.2 kB/s\u001b[0m eta \u001b[36m0:00:00\u001b[0m\n",
            "\u001b[?25hCollecting nvidia-cublas-cu12==12.1.3.1 (from torch>=1.10.0->torchmetrics)\n",
            "  Downloading nvidia_cublas_cu12-12.1.3.1-py3-none-manylinux1_x86_64.whl (410.6 MB)\n",
            "\u001b[2K     \u001b[90m━━━━━━━━━━━━━━━━━━━━━━━━━━━━━━━━━━━━━━━━\u001b[0m \u001b[32m410.6/410.6 MB\u001b[0m \u001b[31m2.9 MB/s\u001b[0m eta \u001b[36m0:00:00\u001b[0m\n",
            "\u001b[?25hCollecting nvidia-cufft-cu12==11.0.2.54 (from torch>=1.10.0->torchmetrics)\n",
            "  Downloading nvidia_cufft_cu12-11.0.2.54-py3-none-manylinux1_x86_64.whl (121.6 MB)\n",
            "\u001b[2K     \u001b[90m━━━━━━━━━━━━━━━━━━━━━━━━━━━━━━━━━━━━━━━━\u001b[0m \u001b[32m121.6/121.6 MB\u001b[0m \u001b[31m10.0 MB/s\u001b[0m eta \u001b[36m0:00:00\u001b[0m\n",
            "\u001b[?25hCollecting nvidia-curand-cu12==10.3.2.106 (from torch>=1.10.0->torchmetrics)\n",
            "  Downloading nvidia_curand_cu12-10.3.2.106-py3-none-manylinux1_x86_64.whl (56.5 MB)\n",
            "\u001b[2K     \u001b[90m━━━━━━━━━━━━━━━━━━━━━━━━━━━━━━━━━━━━━━━━\u001b[0m \u001b[32m56.5/56.5 MB\u001b[0m \u001b[31m16.6 MB/s\u001b[0m eta \u001b[36m0:00:00\u001b[0m\n",
            "\u001b[?25hCollecting nvidia-cusolver-cu12==11.4.5.107 (from torch>=1.10.0->torchmetrics)\n",
            "  Downloading nvidia_cusolver_cu12-11.4.5.107-py3-none-manylinux1_x86_64.whl (124.2 MB)\n",
            "\u001b[2K     \u001b[90m━━━━━━━━━━━━━━━━━━━━━━━━━━━━━━━━━━━━━━━━\u001b[0m \u001b[32m124.2/124.2 MB\u001b[0m \u001b[31m10.6 MB/s\u001b[0m eta \u001b[36m0:00:00\u001b[0m\n",
            "\u001b[?25hCollecting nvidia-cusparse-cu12==12.1.0.106 (from torch>=1.10.0->torchmetrics)\n",
            "  Downloading nvidia_cusparse_cu12-12.1.0.106-py3-none-manylinux1_x86_64.whl (196.0 MB)\n",
            "\u001b[2K     \u001b[90m━━━━━━━━━━━━━━━━━━━━━━━━━━━━━━━━━━━━━━━━\u001b[0m \u001b[32m196.0/196.0 MB\u001b[0m \u001b[31m2.3 MB/s\u001b[0m eta \u001b[36m0:00:00\u001b[0m\n",
            "\u001b[?25hCollecting nvidia-nccl-cu12==2.19.3 (from torch>=1.10.0->torchmetrics)\n",
            "  Downloading nvidia_nccl_cu12-2.19.3-py3-none-manylinux1_x86_64.whl (166.0 MB)\n",
            "\u001b[2K     \u001b[90m━━━━━━━━━━━━━━━━━━━━━━━━━━━━━━━━━━━━━━━━\u001b[0m \u001b[32m166.0/166.0 MB\u001b[0m \u001b[31m2.3 MB/s\u001b[0m eta \u001b[36m0:00:00\u001b[0m\n",
            "\u001b[?25hCollecting nvidia-nvtx-cu12==12.1.105 (from torch>=1.10.0->torchmetrics)\n",
            "  Downloading nvidia_nvtx_cu12-12.1.105-py3-none-manylinux1_x86_64.whl (99 kB)\n",
            "\u001b[2K     \u001b[90m━━━━━━━━━━━━━━━━━━━━━━━━━━━━━━━━━━━━━━━━\u001b[0m \u001b[32m99.1/99.1 kB\u001b[0m \u001b[31m14.1 MB/s\u001b[0m eta \u001b[36m0:00:00\u001b[0m\n",
            "\u001b[?25hRequirement already satisfied: triton==2.2.0 in /usr/local/lib/python3.10/dist-packages (from torch>=1.10.0->torchmetrics) (2.2.0)\n",
            "Collecting nvidia-nvjitlink-cu12 (from nvidia-cusolver-cu12==11.4.5.107->torch>=1.10.0->torchmetrics)\n",
            "  Downloading nvidia_nvjitlink_cu12-12.4.99-py3-none-manylinux2014_x86_64.whl (21.1 MB)\n",
            "\u001b[2K     \u001b[90m━━━━━━━━━━━━━━━━━━━━━━━━━━━━━━━━━━━━━━━━\u001b[0m \u001b[32m21.1/21.1 MB\u001b[0m \u001b[31m31.0 MB/s\u001b[0m eta \u001b[36m0:00:00\u001b[0m\n",
            "\u001b[?25hRequirement already satisfied: MarkupSafe>=2.0 in /usr/local/lib/python3.10/dist-packages (from jinja2->torch>=1.10.0->torchmetrics) (2.1.5)\n",
            "Requirement already satisfied: mpmath>=0.19 in /usr/local/lib/python3.10/dist-packages (from sympy->torch>=1.10.0->torchmetrics) (1.3.0)\n",
            "Installing collected packages: nvidia-nvtx-cu12, nvidia-nvjitlink-cu12, nvidia-nccl-cu12, nvidia-curand-cu12, nvidia-cufft-cu12, nvidia-cuda-runtime-cu12, nvidia-cuda-nvrtc-cu12, nvidia-cuda-cupti-cu12, nvidia-cublas-cu12, lightning-utilities, nvidia-cusparse-cu12, nvidia-cudnn-cu12, nvidia-cusolver-cu12, torchmetrics\n",
            "Successfully installed lightning-utilities-0.10.1 nvidia-cublas-cu12-12.1.3.1 nvidia-cuda-cupti-cu12-12.1.105 nvidia-cuda-nvrtc-cu12-12.1.105 nvidia-cuda-runtime-cu12-12.1.105 nvidia-cudnn-cu12-8.9.2.26 nvidia-cufft-cu12-11.0.2.54 nvidia-curand-cu12-10.3.2.106 nvidia-cusolver-cu12-11.4.5.107 nvidia-cusparse-cu12-12.1.0.106 nvidia-nccl-cu12-2.19.3 nvidia-nvjitlink-cu12-12.4.99 nvidia-nvtx-cu12-12.1.105 torchmetrics-1.3.1\n"
          ]
        }
      ],
      "source": [
        "!pip install torchmetrics"
      ]
    },
    {
      "cell_type": "code",
      "execution_count": 16,
      "metadata": {
        "colab": {
          "base_uri": "https://localhost:8080/"
        },
        "id": "bJvl1U96ySsq",
        "outputId": "2f3d2d71-2d6d-4889-9766-072b3b1fd71d"
      },
      "outputs": [
        {
          "output_type": "stream",
          "name": "stdout",
          "text": [
            "Epoch 1/50, Train Loss: 85.6892, Val Loss: 0.6639, Val Accuracy: 0.6093, Val AUROC: 0.6147\n",
            "Epoch 2/50, Train Loss: 0.6774, Val Loss: 0.6755, Val Accuracy: 0.6722, Val AUROC: 0.6714\n",
            "Epoch 3/50, Train Loss: 0.6538, Val Loss: 0.6288, Val Accuracy: 0.6870, Val AUROC: 0.6872\n",
            "Epoch 4/50, Train Loss: 0.6482, Val Loss: 0.6108, Val Accuracy: 0.6907, Val AUROC: 0.6909\n",
            "Epoch 5/50, Train Loss: 0.6276, Val Loss: 0.6154, Val Accuracy: 0.6747, Val AUROC: 0.6724\n",
            "Epoch 6/50, Train Loss: 0.6304, Val Loss: 0.6075, Val Accuracy: 0.6833, Val AUROC: 0.6831\n",
            "Epoch 7/50, Train Loss: 0.6268, Val Loss: 0.6011, Val Accuracy: 0.7000, Val AUROC: 0.7004\n",
            "Epoch 8/50, Train Loss: 0.6227, Val Loss: 0.6034, Val Accuracy: 0.7006, Val AUROC: 0.7009\n",
            "Epoch 9/50, Train Loss: 0.6206, Val Loss: 0.5982, Val Accuracy: 0.6975, Val AUROC: 0.6984\n",
            "Epoch 10/50, Train Loss: 0.6215, Val Loss: 0.6071, Val Accuracy: 0.6858, Val AUROC: 0.6879\n",
            "Epoch 11/50, Train Loss: 0.6201, Val Loss: 0.6013, Val Accuracy: 0.6951, Val AUROC: 0.6939\n",
            "Epoch 12/50, Train Loss: 0.6209, Val Loss: 0.5998, Val Accuracy: 0.7068, Val AUROC: 0.7074\n",
            "Epoch 13/50, Train Loss: 0.6165, Val Loss: 0.5954, Val Accuracy: 0.6951, Val AUROC: 0.6935\n",
            "Epoch 14/50, Train Loss: 0.6153, Val Loss: 0.5972, Val Accuracy: 0.7111, Val AUROC: 0.7106\n",
            "Epoch 15/50, Train Loss: 0.6154, Val Loss: 0.5952, Val Accuracy: 0.7074, Val AUROC: 0.7083\n",
            "Epoch 16/50, Train Loss: 0.6166, Val Loss: 0.6001, Val Accuracy: 0.6877, Val AUROC: 0.6850\n",
            "Epoch 17/50, Train Loss: 0.6135, Val Loss: 0.5986, Val Accuracy: 0.7000, Val AUROC: 0.6983\n",
            "Epoch 18/50, Train Loss: 0.6626, Val Loss: 0.6028, Val Accuracy: 0.6846, Val AUROC: 0.6817\n",
            "Epoch 19/50, Train Loss: 0.6141, Val Loss: 0.6030, Val Accuracy: 0.6809, Val AUROC: 0.6775\n",
            "Epoch 20/50, Train Loss: 0.6128, Val Loss: 0.5911, Val Accuracy: 0.7049, Val AUROC: 0.7044\n",
            "Epoch 21/50, Train Loss: 0.6094, Val Loss: 0.5909, Val Accuracy: 0.7031, Val AUROC: 0.7019\n",
            "Epoch 22/50, Train Loss: 0.6113, Val Loss: 0.5877, Val Accuracy: 0.7086, Val AUROC: 0.7085\n",
            "Epoch 23/50, Train Loss: 0.6072, Val Loss: 0.5909, Val Accuracy: 0.7105, Val AUROC: 0.7111\n",
            "Epoch 24/50, Train Loss: 0.6113, Val Loss: 0.5970, Val Accuracy: 0.7062, Val AUROC: 0.7074\n",
            "Epoch 25/50, Train Loss: 0.6062, Val Loss: 0.5904, Val Accuracy: 0.7117, Val AUROC: 0.7100\n",
            "Epoch 26/50, Train Loss: 0.6079, Val Loss: 0.5891, Val Accuracy: 0.7074, Val AUROC: 0.7066\n",
            "Epoch 27/50, Train Loss: 0.6077, Val Loss: 0.5950, Val Accuracy: 0.6926, Val AUROC: 0.6897\n",
            "Epoch 28/50, Train Loss: 0.6086, Val Loss: 0.5856, Val Accuracy: 0.7056, Val AUROC: 0.7051\n",
            "Epoch 29/50, Train Loss: 0.6091, Val Loss: 0.5968, Val Accuracy: 0.7012, Val AUROC: 0.7030\n",
            "Epoch 30/50, Train Loss: 0.6059, Val Loss: 0.5875, Val Accuracy: 0.7123, Val AUROC: 0.7118\n",
            "Epoch 31/50, Train Loss: 0.6052, Val Loss: 0.5874, Val Accuracy: 0.7179, Val AUROC: 0.7163\n",
            "Epoch 32/50, Train Loss: 0.6062, Val Loss: 0.5925, Val Accuracy: 0.7185, Val AUROC: 0.7179\n",
            "Epoch 33/50, Train Loss: 0.6045, Val Loss: 0.5839, Val Accuracy: 0.7241, Val AUROC: 0.7231\n",
            "Epoch 34/50, Train Loss: 0.6027, Val Loss: 0.5878, Val Accuracy: 0.7167, Val AUROC: 0.7169\n",
            "Epoch 35/50, Train Loss: 0.6035, Val Loss: 0.5849, Val Accuracy: 0.7099, Val AUROC: 0.7099\n",
            "Epoch 36/50, Train Loss: 0.6043, Val Loss: 0.5860, Val Accuracy: 0.7142, Val AUROC: 0.7140\n",
            "Epoch 37/50, Train Loss: 0.6024, Val Loss: 0.5877, Val Accuracy: 0.7099, Val AUROC: 0.7080\n",
            "Epoch 38/50, Train Loss: 0.6015, Val Loss: 0.5849, Val Accuracy: 0.7136, Val AUROC: 0.7139\n",
            "Epoch 39/50, Train Loss: 1.1135, Val Loss: 0.5830, Val Accuracy: 0.7160, Val AUROC: 0.7154\n",
            "Epoch 40/50, Train Loss: 0.6008, Val Loss: 0.5836, Val Accuracy: 0.7160, Val AUROC: 0.7154\n",
            "Epoch 41/50, Train Loss: 0.6017, Val Loss: 0.5844, Val Accuracy: 0.7142, Val AUROC: 0.7139\n",
            "Epoch 42/50, Train Loss: 0.6037, Val Loss: 0.5848, Val Accuracy: 0.7142, Val AUROC: 0.7140\n",
            "Epoch 43/50, Train Loss: 0.5993, Val Loss: 0.5932, Val Accuracy: 0.6988, Val AUROC: 0.6960\n",
            "Epoch 44/50, Train Loss: 0.6003, Val Loss: 0.5827, Val Accuracy: 0.7173, Val AUROC: 0.7173\n",
            "Epoch 45/50, Train Loss: 0.6013, Val Loss: 0.5867, Val Accuracy: 0.7117, Val AUROC: 0.7101\n",
            "Epoch 46/50, Train Loss: 0.5965, Val Loss: 0.5839, Val Accuracy: 0.7136, Val AUROC: 0.7123\n",
            "Epoch 47/50, Train Loss: 0.5969, Val Loss: 0.5791, Val Accuracy: 0.7130, Val AUROC: 0.7118\n",
            "Epoch 48/50, Train Loss: 0.6104, Val Loss: 0.5851, Val Accuracy: 0.7185, Val AUROC: 0.7184\n",
            "Epoch 49/50, Train Loss: 0.5995, Val Loss: 0.5885, Val Accuracy: 0.7080, Val AUROC: 0.7059\n",
            "Epoch 50/50, Train Loss: 0.5990, Val Loss: 0.5826, Val Accuracy: 0.7173, Val AUROC: 0.7162\n"
          ]
        }
      ],
      "source": [
        "import torch\n",
        "import torch.nn as nn\n",
        "import torch.nn.functional as F\n",
        "import torch.optim as optim\n",
        "from torch_geometric.nn import GCNConv, global_mean_pool\n",
        "from torch_geometric.nn.conv import GraphConv\n",
        "from torch_geometric.utils import to_undirected\n",
        "from torch_geometric.data import DataLoader\n",
        "from torchmetrics.classification import BinaryAUROC\n",
        "auroc = BinaryAUROC()\n",
        "\n",
        "\n",
        "class Network(nn.Module):\n",
        "    def __init__(self, c_in, c_hidden, c_out, p=0.3):\n",
        "        super().__init__()\n",
        "        torch.manual_seed(123)\n",
        "        self.conv1 = GraphConv(c_in, c_hidden)\n",
        "        self.conv2 = GraphConv(c_hidden,3*c_hidden)\n",
        "\n",
        "        self.conv3 = GraphConv(3*c_hidden, c_hidden)\n",
        "\n",
        "        # self.pool = SAGPooling(c_hidden)\n",
        "\n",
        "        self.lin1 = nn.Linear(c_hidden, 4*c_out)\n",
        "        self.lin2 = nn.Linear(4*c_out, c_out)\n",
        "        self.p = p\n",
        "\n",
        "    def forward(self, x, edge_index, batch, is_train):\n",
        "        x = self.conv1(x, edge_index)\n",
        "        x = x.relu()\n",
        "\n",
        "        x = self.conv2(x, edge_index)\n",
        "        x = x.relu()\n",
        "\n",
        "        x = self.conv3(x, edge_index)\n",
        "        x = x.relu()\n",
        "\n",
        "        x = global_mean_pool(x, batch)\n",
        "\n",
        "        # classifier\n",
        "\n",
        "        x = F.dropout(x, p=self.p, training=is_train)\n",
        "        x = self.lin1(x)\n",
        "\n",
        "        x = F.dropout(x, p=self.p, training=is_train)\n",
        "        x = self.lin2(x)\n",
        "\n",
        "        return x\n",
        "\n",
        "\n",
        "def evaluate(loader):\n",
        "    model.eval()\n",
        "    total_loss = 0.0\n",
        "    correct = 0\n",
        "    total_samples = 0\n",
        "    all_preds = []\n",
        "    all_labels = []\n",
        "\n",
        "    with torch.no_grad():\n",
        "        for batch in loader:\n",
        "            batch.to(device)\n",
        "            # print(batch.edge_index)\n",
        "            pred = model(batch.x.float(), batch.edge_index, batch.batch, False)\n",
        "            target = F.one_hot(batch.y, 2).float()\n",
        "            loss = criterion(pred, target)\n",
        "            total_loss += loss.item()\n",
        "\n",
        "            # Calculate accuracy\n",
        "            pred_labels = torch.softmax(pred, -1).argmax(dim=-1)\n",
        "            correct += (pred_labels == batch.y).sum().item()\n",
        "            total_samples += len(batch.y)\n",
        "            all_labels.append(batch.y)\n",
        "            all_preds.append(pred_labels)\n",
        "\n",
        "    pred = all_preds[0]\n",
        "    label = all_labels[0]\n",
        "\n",
        "    for p, l in zip(all_preds[1:], all_labels[1:]):\n",
        "      pred = torch.cat([pred, p])\n",
        "      label = torch.cat([label, l])\n",
        "\n",
        "    return total_loss / len(loader), correct / total_samples, auroc(pred, label)\n",
        "\n",
        "# Training loop with validation\n",
        "num_epochs = 50\n",
        "best_auroc = 0\n",
        "model = Network(c_in=5, c_hidden=64, c_out=2).to(device)\n",
        "optimizer = optim.Adam(model.parameters(), lr=3e-4)\n",
        "criterion = nn.BCEWithLogitsLoss()\n",
        "\n",
        "for epoch in range(num_epochs):\n",
        "    model.train()\n",
        "    epoch_loss = 0\n",
        "\n",
        "    for idx, batch in enumerate(train_loader):\n",
        "\n",
        "        batch = batch.to(device)\n",
        "\n",
        "        pred = model(batch.x.float(), batch.edge_index, batch.batch, True)\n",
        "        target = F.one_hot(batch.y, 2).float()\n",
        "        loss = criterion(pred, target)\n",
        "        epoch_loss += loss.item()\n",
        "\n",
        "        optimizer.zero_grad()\n",
        "        loss.backward()\n",
        "        optimizer.step()\n",
        "\n",
        "    avg_train_loss = epoch_loss / len(train_loader)\n",
        "    avg_val_loss, val_accuracy, val_auroc = evaluate(val_loader)\n",
        "    if val_auroc> best_auroc:\n",
        "      best_auroc = val_auroc\n",
        "      best_epoch = epoch\n",
        "      torch.save(model.state_dict(), 'best_model_gnn.pth')\n",
        "    print(f'Epoch {epoch + 1}/{num_epochs}, Train Loss: {avg_train_loss:.4f}, Val Loss: {avg_val_loss:.4f}, Val Accuracy: {val_accuracy:.4f}, Val AUROC: {val_auroc:.4f}')"
      ]
    },
    {
      "cell_type": "code",
      "execution_count": 17,
      "metadata": {
        "colab": {
          "base_uri": "https://localhost:8080/"
        },
        "id": "xJndCZfDyYm5",
        "outputId": "3d725698-c2c6-4a05-beca-67fdb55fac56"
      },
      "outputs": [
        {
          "output_type": "stream",
          "name": "stdout",
          "text": [
            "Test Loss: 0.5759, Test Accuracy: 72.4444%, Test AUROC: 0.7235\n"
          ]
        }
      ],
      "source": [
        "# Testing\n",
        "test_loss, test_accuracy, test_auroc = evaluate(test_loader)\n",
        "print(f'Test Loss: {test_loss:.4f}, Test Accuracy: {100*test_accuracy:.4f}%, Test AUROC: {test_auroc:.4f}')"
      ]
    },
    {
      "cell_type": "code",
      "execution_count": 14,
      "metadata": {
        "id": "w3CPT7efYUMB"
      },
      "outputs": [],
      "source": []
    }
  ],
  "metadata": {
    "accelerator": "GPU",
    "colab": {
      "gpuType": "T4",
      "provenance": []
    },
    "kernelspec": {
      "display_name": "Python 3",
      "name": "python3"
    },
    "language_info": {
      "name": "python"
    }
  },
  "nbformat": 4,
  "nbformat_minor": 0
}