{
  "cells": [
    {
      "cell_type": "code",
      "execution_count": 1,
      "metadata": {
        "colab": {
          "base_uri": "https://localhost:8080/"
        },
        "id": "LaMnbeS8xS_N",
        "outputId": "36488ba0-a998-406d-f304-16fb28cbf4dd"
      },
      "outputs": [
        {
          "name": "stdout",
          "output_type": "stream",
          "text": [
            "Collecting torch-geometric\n",
            "  Downloading torch_geometric-2.5.1-py3-none-any.whl (1.1 MB)\n",
            "\u001b[2K     \u001b[90m━━━━━━━━━━━━━━━━━━━━━━━━━━━━━━━━━━━━━━━━\u001b[0m \u001b[32m1.1/1.1 MB\u001b[0m \u001b[31m7.6 MB/s\u001b[0m eta \u001b[36m0:00:00\u001b[0m\n",
            "\u001b[?25hRequirement already satisfied: tqdm in /usr/local/lib/python3.10/dist-packages (from torch-geometric) (4.66.2)\n",
            "Requirement already satisfied: numpy in /usr/local/lib/python3.10/dist-packages (from torch-geometric) (1.25.2)\n",
            "Requirement already satisfied: scipy in /usr/local/lib/python3.10/dist-packages (from torch-geometric) (1.11.4)\n",
            "Requirement already satisfied: fsspec in /usr/local/lib/python3.10/dist-packages (from torch-geometric) (2023.6.0)\n",
            "Requirement already satisfied: jinja2 in /usr/local/lib/python3.10/dist-packages (from torch-geometric) (3.1.3)\n",
            "Requirement already satisfied: aiohttp in /usr/local/lib/python3.10/dist-packages (from torch-geometric) (3.9.3)\n",
            "Requirement already satisfied: requests in /usr/local/lib/python3.10/dist-packages (from torch-geometric) (2.31.0)\n",
            "Requirement already satisfied: pyparsing in /usr/local/lib/python3.10/dist-packages (from torch-geometric) (3.1.2)\n",
            "Requirement already satisfied: scikit-learn in /usr/local/lib/python3.10/dist-packages (from torch-geometric) (1.2.2)\n",
            "Requirement already satisfied: psutil>=5.8.0 in /usr/local/lib/python3.10/dist-packages (from torch-geometric) (5.9.5)\n",
            "Requirement already satisfied: aiosignal>=1.1.2 in /usr/local/lib/python3.10/dist-packages (from aiohttp->torch-geometric) (1.3.1)\n",
            "Requirement already satisfied: attrs>=17.3.0 in /usr/local/lib/python3.10/dist-packages (from aiohttp->torch-geometric) (23.2.0)\n",
            "Requirement already satisfied: frozenlist>=1.1.1 in /usr/local/lib/python3.10/dist-packages (from aiohttp->torch-geometric) (1.4.1)\n",
            "Requirement already satisfied: multidict<7.0,>=4.5 in /usr/local/lib/python3.10/dist-packages (from aiohttp->torch-geometric) (6.0.5)\n",
            "Requirement already satisfied: yarl<2.0,>=1.0 in /usr/local/lib/python3.10/dist-packages (from aiohttp->torch-geometric) (1.9.4)\n",
            "Requirement already satisfied: async-timeout<5.0,>=4.0 in /usr/local/lib/python3.10/dist-packages (from aiohttp->torch-geometric) (4.0.3)\n",
            "Requirement already satisfied: MarkupSafe>=2.0 in /usr/local/lib/python3.10/dist-packages (from jinja2->torch-geometric) (2.1.5)\n",
            "Requirement already satisfied: charset-normalizer<4,>=2 in /usr/local/lib/python3.10/dist-packages (from requests->torch-geometric) (3.3.2)\n",
            "Requirement already satisfied: idna<4,>=2.5 in /usr/local/lib/python3.10/dist-packages (from requests->torch-geometric) (3.6)\n",
            "Requirement already satisfied: urllib3<3,>=1.21.1 in /usr/local/lib/python3.10/dist-packages (from requests->torch-geometric) (2.0.7)\n",
            "Requirement already satisfied: certifi>=2017.4.17 in /usr/local/lib/python3.10/dist-packages (from requests->torch-geometric) (2024.2.2)\n",
            "Requirement already satisfied: joblib>=1.1.1 in /usr/local/lib/python3.10/dist-packages (from scikit-learn->torch-geometric) (1.3.2)\n",
            "Requirement already satisfied: threadpoolctl>=2.0.0 in /usr/local/lib/python3.10/dist-packages (from scikit-learn->torch-geometric) (3.3.0)\n",
            "Installing collected packages: torch-geometric\n",
            "Successfully installed torch-geometric-2.5.1\n"
          ]
        }
      ],
      "source": [
        "!pip install torch-geometric"
      ]
    },
    {
      "cell_type": "code",
      "execution_count": 2,
      "metadata": {
        "colab": {
          "base_uri": "https://localhost:8080/"
        },
        "id": "MeOe14uvxF_4",
        "outputId": "e8f82298-c743-4fb4-9209-a9184a5bc798"
      },
      "outputs": [
        {
          "name": "stdout",
          "output_type": "stream",
          "text": [
            "Mounted at /content/drive\n"
          ]
        }
      ],
      "source": [
        "from google.colab import drive\n",
        "drive.mount('/content/drive')"
      ]
    },
    {
      "cell_type": "markdown",
      "metadata": {},
      "source": [
        "#### Loading chunks of the dataset\n",
        "##### Note: To preserve RAM, several unused variables are deleted throughout the norebook"
      ]
    },
    {
      "cell_type": "code",
      "execution_count": 3,
      "metadata": {
        "id": "_eUJcrDpgqK0"
      },
      "outputs": [],
      "source": [
        "import torch\n",
        "chunk1 = torch.load('/content/drive/MyDrive/SCI_data/first.pt')"
      ]
    },
    {
      "cell_type": "code",
      "execution_count": 4,
      "metadata": {
        "id": "LI4EBVFJxI68"
      },
      "outputs": [],
      "source": [
        "chunk2 = torch.load('/content/drive/MyDrive/SCI_data/second (1).pt')"
      ]
    },
    {
      "cell_type": "code",
      "execution_count": 9,
      "metadata": {
        "id": "KPmeFMQmdCyq"
      },
      "outputs": [],
      "source": [
        "from torch.utils.data import Dataset\n",
        "\n",
        "class GraphDataset(Dataset):\n",
        "  def __init__(self, data, preprocess):\n",
        "    self.data = data\n",
        "    self.preprocess = preprocess\n",
        "\n",
        "  def __len__(self,):\n",
        "    return len(self.data)\n",
        "\n",
        "  def __getitem__(self, index):\n",
        "    res = self.data[index]\n",
        "    for p in self.preprocess:\n",
        "      res = p(res)\n",
        "    return res\n",
        "\n",
        "chunk1+=chunk2\n",
        "del chunk2"
      ]
    },
    {
      "cell_type": "code",
      "execution_count": 10,
      "metadata": {
        "colab": {
          "base_uri": "https://localhost:8080/"
        },
        "id": "tH5qblStyQ3a",
        "outputId": "5895e9ec-6314-4b1f-80c1-ee173d41e4a4"
      },
      "outputs": [
        {
          "name": "stdout",
          "output_type": "stream",
          "text": [
            "14580 1620 1620\n"
          ]
        }
      ],
      "source": [
        "from sklearn.model_selection import train_test_split\n",
        "rand_seed = 42\n",
        "X_train, X_test = train_test_split(chunk1, test_size=0.1, random_state = rand_seed)\n",
        "X_train, X_val = train_test_split(X_train, test_size=0.1, random_state = rand_seed)\n",
        "print(len(X_train), len(X_val), len(X_val))"
      ]
    },
    {
      "cell_type": "code",
      "execution_count": 12,
      "metadata": {
        "id": "h5seHj9b7lXf"
      },
      "outputs": [],
      "source": [
        "device = 'cuda'"
      ]
    },
    {
      "cell_type": "code",
      "execution_count": 13,
      "metadata": {
        "id": "5n_uKEt5yHo8"
      },
      "outputs": [],
      "source": [
        "from torch_geometric.loader import DataLoader\n",
        "\n",
        "train_loader = DataLoader(X_train, batch_size=32, shuffle=True)\n",
        "val_loader = DataLoader(X_val, batch_size=32, shuffle=False)\n",
        "test_loader = DataLoader(X_test, batch_size=32, shuffle=False)"
      ]
    },
    {
      "cell_type": "code",
      "execution_count": 14,
      "metadata": {
        "colab": {
          "base_uri": "https://localhost:8080/"
        },
        "id": "Y0dxA0qddvw-",
        "outputId": "d527faac-d909-4cb0-fc5b-1914163ea871"
      },
      "outputs": [
        {
          "name": "stdout",
          "output_type": "stream",
          "text": [
            "Collecting torchmetrics\n",
            "  Downloading torchmetrics-1.3.1-py3-none-any.whl (840 kB)\n",
            "\u001b[2K     \u001b[90m━━━━━━━━━━━━━━━━━━━━━━━━━━━━━━━━━━━━━━━━\u001b[0m \u001b[32m840.4/840.4 kB\u001b[0m \u001b[31m10.5 MB/s\u001b[0m eta \u001b[36m0:00:00\u001b[0m\n",
            "\u001b[?25hRequirement already satisfied: numpy>1.20.0 in /usr/local/lib/python3.10/dist-packages (from torchmetrics) (1.25.2)\n",
            "Requirement already satisfied: packaging>17.1 in /usr/local/lib/python3.10/dist-packages (from torchmetrics) (23.2)\n",
            "Requirement already satisfied: torch>=1.10.0 in /usr/local/lib/python3.10/dist-packages (from torchmetrics) (2.1.0+cu121)\n",
            "Collecting lightning-utilities>=0.8.0 (from torchmetrics)\n",
            "  Downloading lightning_utilities-0.10.1-py3-none-any.whl (24 kB)\n",
            "Requirement already satisfied: setuptools in /usr/local/lib/python3.10/dist-packages (from lightning-utilities>=0.8.0->torchmetrics) (67.7.2)\n",
            "Requirement already satisfied: typing-extensions in /usr/local/lib/python3.10/dist-packages (from lightning-utilities>=0.8.0->torchmetrics) (4.10.0)\n",
            "Requirement already satisfied: filelock in /usr/local/lib/python3.10/dist-packages (from torch>=1.10.0->torchmetrics) (3.13.1)\n",
            "Requirement already satisfied: sympy in /usr/local/lib/python3.10/dist-packages (from torch>=1.10.0->torchmetrics) (1.12)\n",
            "Requirement already satisfied: networkx in /usr/local/lib/python3.10/dist-packages (from torch>=1.10.0->torchmetrics) (3.2.1)\n",
            "Requirement already satisfied: jinja2 in /usr/local/lib/python3.10/dist-packages (from torch>=1.10.0->torchmetrics) (3.1.3)\n",
            "Requirement already satisfied: fsspec in /usr/local/lib/python3.10/dist-packages (from torch>=1.10.0->torchmetrics) (2023.6.0)\n",
            "Requirement already satisfied: triton==2.1.0 in /usr/local/lib/python3.10/dist-packages (from torch>=1.10.0->torchmetrics) (2.1.0)\n",
            "Requirement already satisfied: MarkupSafe>=2.0 in /usr/local/lib/python3.10/dist-packages (from jinja2->torch>=1.10.0->torchmetrics) (2.1.5)\n",
            "Requirement already satisfied: mpmath>=0.19 in /usr/local/lib/python3.10/dist-packages (from sympy->torch>=1.10.0->torchmetrics) (1.3.0)\n",
            "Installing collected packages: lightning-utilities, torchmetrics\n",
            "Successfully installed lightning-utilities-0.10.1 torchmetrics-1.3.1\n"
          ]
        }
      ],
      "source": [
        "!pip install torchmetrics"
      ]
    },
    {
      "cell_type": "code",
      "execution_count": 17,
      "metadata": {
        "colab": {
          "base_uri": "https://localhost:8080/"
        },
        "id": "bJvl1U96ySsq",
        "outputId": "aa6271a9-03e5-4f6e-f99a-398e46fe22c1"
      },
      "outputs": [
        {
          "name": "stdout",
          "output_type": "stream",
          "text": [
            "Epoch 1/50, Train Loss: 0.6614, Val Loss: 0.6176, Val Accuracy: 0.6796, Val AUROC: 0.6809\n",
            "Epoch 2/50, Train Loss: 0.6218, Val Loss: 0.6058, Val Accuracy: 0.6716, Val AUROC: 0.6749\n",
            "Epoch 3/50, Train Loss: 0.6071, Val Loss: 0.5873, Val Accuracy: 0.7136, Val AUROC: 0.7143\n",
            "Epoch 4/50, Train Loss: 0.6035, Val Loss: 0.5835, Val Accuracy: 0.7099, Val AUROC: 0.7081\n",
            "Epoch 5/50, Train Loss: 0.5970, Val Loss: 0.5874, Val Accuracy: 0.7154, Val AUROC: 0.7134\n",
            "Epoch 6/50, Train Loss: 0.5982, Val Loss: 0.5797, Val Accuracy: 0.7136, Val AUROC: 0.7123\n",
            "Epoch 7/50, Train Loss: 0.5988, Val Loss: 0.5819, Val Accuracy: 0.7179, Val AUROC: 0.7165\n",
            "Epoch 8/50, Train Loss: 0.5972, Val Loss: 0.5818, Val Accuracy: 0.7154, Val AUROC: 0.7150\n",
            "Epoch 9/50, Train Loss: 0.5964, Val Loss: 0.5774, Val Accuracy: 0.7198, Val AUROC: 0.7193\n",
            "Epoch 10/50, Train Loss: 0.5908, Val Loss: 0.5764, Val Accuracy: 0.7185, Val AUROC: 0.7179\n",
            "Epoch 11/50, Train Loss: 0.5922, Val Loss: 0.5772, Val Accuracy: 0.7142, Val AUROC: 0.7129\n",
            "Epoch 12/50, Train Loss: 0.5911, Val Loss: 0.5788, Val Accuracy: 0.7185, Val AUROC: 0.7165\n",
            "Epoch 13/50, Train Loss: 0.5915, Val Loss: 0.5765, Val Accuracy: 0.7198, Val AUROC: 0.7202\n",
            "Epoch 14/50, Train Loss: 0.5902, Val Loss: 0.5848, Val Accuracy: 0.7136, Val AUROC: 0.7152\n",
            "Epoch 15/50, Train Loss: 0.5913, Val Loss: 0.5774, Val Accuracy: 0.7235, Val AUROC: 0.7239\n",
            "Epoch 16/50, Train Loss: 0.5914, Val Loss: 0.5857, Val Accuracy: 0.7117, Val AUROC: 0.7134\n",
            "Epoch 17/50, Train Loss: 0.5910, Val Loss: 0.5784, Val Accuracy: 0.7235, Val AUROC: 0.7218\n",
            "Epoch 18/50, Train Loss: 0.5891, Val Loss: 0.5737, Val Accuracy: 0.7228, Val AUROC: 0.7229\n",
            "Epoch 19/50, Train Loss: 0.5907, Val Loss: 0.5722, Val Accuracy: 0.7185, Val AUROC: 0.7176\n",
            "Epoch 20/50, Train Loss: 0.5881, Val Loss: 0.5729, Val Accuracy: 0.7191, Val AUROC: 0.7179\n",
            "Epoch 21/50, Train Loss: 0.5878, Val Loss: 0.5750, Val Accuracy: 0.7228, Val AUROC: 0.7212\n",
            "Epoch 22/50, Train Loss: 0.5874, Val Loss: 0.5737, Val Accuracy: 0.7290, Val AUROC: 0.7285\n",
            "Epoch 23/50, Train Loss: 0.5871, Val Loss: 0.5815, Val Accuracy: 0.7142, Val AUROC: 0.7117\n",
            "Epoch 24/50, Train Loss: 0.5862, Val Loss: 0.5714, Val Accuracy: 0.7204, Val AUROC: 0.7201\n",
            "Epoch 25/50, Train Loss: 0.5862, Val Loss: 0.5728, Val Accuracy: 0.7222, Val AUROC: 0.7227\n",
            "Epoch 26/50, Train Loss: 0.5853, Val Loss: 0.5700, Val Accuracy: 0.7191, Val AUROC: 0.7189\n",
            "Epoch 27/50, Train Loss: 0.5873, Val Loss: 0.5689, Val Accuracy: 0.7222, Val AUROC: 0.7212\n",
            "Epoch 28/50, Train Loss: 0.5859, Val Loss: 0.5709, Val Accuracy: 0.7247, Val AUROC: 0.7235\n",
            "Epoch 29/50, Train Loss: 0.5907, Val Loss: 0.5702, Val Accuracy: 0.7210, Val AUROC: 0.7196\n",
            "Epoch 30/50, Train Loss: 0.5871, Val Loss: 0.5690, Val Accuracy: 0.7191, Val AUROC: 0.7186\n",
            "Epoch 31/50, Train Loss: 0.5860, Val Loss: 0.5742, Val Accuracy: 0.7241, Val AUROC: 0.7227\n",
            "Epoch 32/50, Train Loss: 0.5864, Val Loss: 0.5702, Val Accuracy: 0.7272, Val AUROC: 0.7266\n",
            "Epoch 33/50, Train Loss: 0.5848, Val Loss: 0.5683, Val Accuracy: 0.7290, Val AUROC: 0.7279\n",
            "Epoch 34/50, Train Loss: 0.5867, Val Loss: 0.5708, Val Accuracy: 0.7247, Val AUROC: 0.7233\n",
            "Epoch 35/50, Train Loss: 0.5839, Val Loss: 0.5757, Val Accuracy: 0.7185, Val AUROC: 0.7194\n",
            "Epoch 36/50, Train Loss: 0.5846, Val Loss: 0.5700, Val Accuracy: 0.7198, Val AUROC: 0.7189\n",
            "Epoch 37/50, Train Loss: 0.5854, Val Loss: 0.5772, Val Accuracy: 0.7265, Val AUROC: 0.7257\n",
            "Epoch 38/50, Train Loss: 0.5834, Val Loss: 0.5700, Val Accuracy: 0.7204, Val AUROC: 0.7204\n",
            "Epoch 39/50, Train Loss: 0.5855, Val Loss: 0.5707, Val Accuracy: 0.7265, Val AUROC: 0.7264\n",
            "Epoch 40/50, Train Loss: 0.5846, Val Loss: 0.5674, Val Accuracy: 0.7265, Val AUROC: 0.7256\n",
            "Epoch 41/50, Train Loss: 0.5834, Val Loss: 0.5676, Val Accuracy: 0.7259, Val AUROC: 0.7249\n",
            "Epoch 42/50, Train Loss: 0.5872, Val Loss: 0.5739, Val Accuracy: 0.7210, Val AUROC: 0.7204\n",
            "Epoch 43/50, Train Loss: 0.5837, Val Loss: 0.5696, Val Accuracy: 0.7247, Val AUROC: 0.7248\n",
            "Epoch 44/50, Train Loss: 0.5855, Val Loss: 0.5688, Val Accuracy: 0.7259, Val AUROC: 0.7261\n",
            "Epoch 45/50, Train Loss: 0.5859, Val Loss: 0.5711, Val Accuracy: 0.7204, Val AUROC: 0.7184\n",
            "Epoch 46/50, Train Loss: 0.5841, Val Loss: 0.5697, Val Accuracy: 0.7259, Val AUROC: 0.7264\n",
            "Epoch 47/50, Train Loss: 0.5845, Val Loss: 0.5666, Val Accuracy: 0.7278, Val AUROC: 0.7268\n",
            "Epoch 48/50, Train Loss: 0.5830, Val Loss: 0.5729, Val Accuracy: 0.7210, Val AUROC: 0.7205\n",
            "Epoch 49/50, Train Loss: 0.5826, Val Loss: 0.5708, Val Accuracy: 0.7259, Val AUROC: 0.7264\n",
            "Epoch 50/50, Train Loss: 0.5831, Val Loss: 0.5683, Val Accuracy: 0.7222, Val AUROC: 0.7222\n"
          ]
        }
      ],
      "source": [
        "import torch\n",
        "import torch.nn as nn\n",
        "import torch.nn.functional as F\n",
        "import torch.optim as optim\n",
        "from torch_geometric.nn import GCNConv, global_mean_pool, GATConv, SAGEConv, SAGPooling\n",
        "from torch_geometric.nn.conv import GraphConv\n",
        "from torch_geometric.utils import to_undirected\n",
        "from torch_geometric.data import DataLoader\n",
        "from torchmetrics.classification import BinaryAUROC\n",
        "auroc = BinaryAUROC()\n",
        "\n",
        "\n",
        "class Network(nn.Module):\n",
        "    def __init__(self, c_in, c_hidden, c_out, p=0.3):\n",
        "        super().__init__()\n",
        "        torch.manual_seed(123)\n",
        "        self.conv1 = SAGEConv(c_in, c_hidden, aggr='mean')\n",
        "        self.conv2 = SAGEConv(c_hidden,3*c_hidden, aggr='mean')\n",
        "        self.conv3 = SAGEConv(3*c_hidden, 2*c_hidden, aggr='mean')\n",
        "        self.conv4 = SAGEConv(2*c_hidden, c_hidden, aggr='mean')\n",
        "\n",
        "        # self.pool = SAGPooling(c_hidden)\n",
        "\n",
        "        self.lin1 = nn.Linear(c_hidden, 4*c_out)\n",
        "        self.lin2 = nn.Linear(4*c_out, c_out)\n",
        "        self.p = p\n",
        "\n",
        "    def forward(self, x, edge_index, batch, is_train):\n",
        "        x = self.conv1(x, edge_index)\n",
        "        x = x.relu()\n",
        "\n",
        "        x = self.conv2(x, edge_index)\n",
        "        x = x.relu()\n",
        "\n",
        "        x = self.conv3(x, edge_index)\n",
        "        x = x.relu()\n",
        "\n",
        "        x = self.conv4(x, edge_index)\n",
        "\n",
        "\n",
        "\n",
        "        x = global_mean_pool(x, batch)\n",
        "\n",
        "        # classifier\n",
        "\n",
        "        x = F.dropout(x, p=self.p, training=is_train)\n",
        "        x = self.lin1(x)\n",
        "\n",
        "        x = F.dropout(x, p=self.p, training=is_train)\n",
        "        x = self.lin2(x)\n",
        "\n",
        "        return x\n",
        "\n",
        "\n",
        "def evaluate(loader):\n",
        "    model.eval()\n",
        "    total_loss = 0.0\n",
        "    correct = 0\n",
        "    total_samples = 0\n",
        "    all_preds = []\n",
        "    all_labels = []\n",
        "\n",
        "    with torch.no_grad():\n",
        "        for batch in loader:\n",
        "            batch.to(device)\n",
        "            # print(batch.edge_index)\n",
        "            pred = model(batch.x.float(), batch.edge_index, batch.batch, False)\n",
        "            target = F.one_hot(batch.y, 2).float()\n",
        "            loss = criterion(pred, target)\n",
        "            total_loss += loss.item()\n",
        "\n",
        "            pred_labels = torch.softmax(pred, -1).argmax(dim=-1)\n",
        "            correct += (pred_labels == batch.y).sum().item()\n",
        "            total_samples += len(batch.y)\n",
        "            all_labels.append(batch.y)\n",
        "            all_preds.append(pred_labels)\n",
        "\n",
        "    pred = all_preds[0]\n",
        "    label = all_labels[0]\n",
        "\n",
        "    for p, l in zip(all_preds[1:], all_labels[1:]):\n",
        "      pred = torch.cat([pred, p])\n",
        "      label = torch.cat([label, l])\n",
        "\n",
        "    return total_loss / len(loader), correct / total_samples, auroc(pred, label)\n",
        "\n",
        "# Training loop\n",
        "num_epochs = 50\n",
        "embedding_dim = 64\n",
        "model = Network(c_in=5, c_hidden=embedding_dim, c_out=2).to(device)\n",
        "optimizer = optim.Adam(model.parameters(), lr=3e-4)\n",
        "criterion = nn.BCEWithLogitsLoss()\n",
        "\n",
        "for epoch in range(num_epochs):\n",
        "    model.train()\n",
        "    epoch_loss = 0\n",
        "\n",
        "    for idx, batch in enumerate(train_loader):\n",
        "\n",
        "        batch = batch.to(device)\n",
        "\n",
        "        pred = model(batch.x.float(), batch.edge_index, batch.batch, True)\n",
        "        target = F.one_hot(batch.y, 2).float()\n",
        "        loss = criterion(pred, target)\n",
        "        epoch_loss += loss.item()\n",
        "\n",
        "        optimizer.zero_grad()\n",
        "        loss.backward()\n",
        "        optimizer.step()\n",
        "\n",
        "    avg_train_loss = epoch_loss / len(train_loader)\n",
        "    avg_val_loss, val_accuracy, val_auroc = evaluate(val_loader)\n",
        "\n",
        "    print(f'Epoch {epoch + 1}/{num_epochs}, Train Loss: {avg_train_loss:.4f}, Val Loss: {avg_val_loss:.4f}, Val Accuracy: {val_accuracy:.4f}, Val AUROC: {val_auroc:.4f}')"
      ]
    },
    {
      "cell_type": "code",
      "execution_count": 20,
      "metadata": {
        "colab": {
          "base_uri": "https://localhost:8080/"
        },
        "id": "xJndCZfDyYm5",
        "outputId": "76af012b-e86c-4bb4-ce51-6fd0cfa38208"
      },
      "outputs": [
        {
          "name": "stdout",
          "output_type": "stream",
          "text": [
            "Test Loss: 0.5703, Test Accuracy: 72.3333%, Test AUROC: 0.7239\n"
          ]
        }
      ],
      "source": [
        "# Testing\n",
        "test_loss, test_accuracy, test_auroc = evaluate(test_loader)\n",
        "print(f'Test Loss: {test_loss:.4f}, Test Accuracy: {100*test_accuracy:.4f}%, Test AUROC: {test_auroc:.4f}')"
      ]
    },
    {
      "cell_type": "code",
      "execution_count": null,
      "metadata": {
        "id": "w3CPT7efYUMB"
      },
      "outputs": [],
      "source": []
    }
  ],
  "metadata": {
    "accelerator": "GPU",
    "colab": {
      "gpuType": "T4",
      "provenance": []
    },
    "kernelspec": {
      "display_name": "Python 3",
      "name": "python3"
    },
    "language_info": {
      "name": "python"
    }
  },
  "nbformat": 4,
  "nbformat_minor": 0
}
